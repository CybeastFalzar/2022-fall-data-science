{
 "cells": [
  {
   "cell_type": "code",
   "execution_count": 1,
   "id": "cc2138ea",
   "metadata": {},
   "outputs": [
    {
     "name": "stdout",
     "output_type": "stream",
     "text": [
      "BX-Police.csv\n",
      "Iris.csv\n",
      "Sales.csv\n",
      "Stocks.csv\n",
      "budget-sample.csv\n"
     ]
    }
   ],
   "source": [
    "! ls data/\n"
   ]
  },
  {
   "cell_type": "code",
   "execution_count": 2,
   "id": "c4b74fe5",
   "metadata": {},
   "outputs": [],
   "source": [
    "import pandas as pd\n",
    "import seaborn as sns\n",
    "import matplotlib.pyplot as plt"
   ]
  },
  {
   "cell_type": "markdown",
   "id": "9cca801f",
   "metadata": {},
   "source": [
    "# Using budget-sample.csv\n",
    "* Plot a histogram of the base_salary.  Write one sentence about what this tells you about base salaries.\n",
    "* Make a boxplot of base salaries, what does this tell you about base salaries?\n",
    "* Make a boxplot of base salaries per (or by) work_location_borough, what does this tell you about the difference in working in each location?\n",
    "* Make a plot visualizing the difference average base salaries based on agency_name.  Who would you want to work for based on this information?\n",
    "<br><br>\n",
    "* __Tell me something new, cool, and interesting about this data__\n"
   ]
  },
  {
   "cell_type": "code",
   "execution_count": 3,
   "id": "0b39cf6f",
   "metadata": {},
   "outputs": [
    {
     "data": {
      "text/html": [
       "<div>\n",
       "<style scoped>\n",
       "    .dataframe tbody tr th:only-of-type {\n",
       "        vertical-align: middle;\n",
       "    }\n",
       "\n",
       "    .dataframe tbody tr th {\n",
       "        vertical-align: top;\n",
       "    }\n",
       "\n",
       "    .dataframe thead th {\n",
       "        text-align: right;\n",
       "    }\n",
       "</style>\n",
       "<table border=\"1\" class=\"dataframe\">\n",
       "  <thead>\n",
       "    <tr style=\"text-align: right;\">\n",
       "      <th></th>\n",
       "      <th>fiscal_year</th>\n",
       "      <th>payroll_number</th>\n",
       "      <th>agency_name</th>\n",
       "      <th>last_name</th>\n",
       "      <th>first_name</th>\n",
       "      <th>mid_init</th>\n",
       "      <th>agency_start_date</th>\n",
       "      <th>work_location_borough</th>\n",
       "      <th>title_description</th>\n",
       "      <th>leave_status_as_of_june_30</th>\n",
       "      <th>base_salary</th>\n",
       "      <th>pay_basis</th>\n",
       "      <th>regular_hours</th>\n",
       "      <th>regular_gross_paid</th>\n",
       "      <th>ot_hours</th>\n",
       "      <th>total_ot_paid</th>\n",
       "      <th>total_other_pay</th>\n",
       "    </tr>\n",
       "  </thead>\n",
       "  <tbody>\n",
       "    <tr>\n",
       "      <th>0</th>\n",
       "      <td>2020</td>\n",
       "      <td>826</td>\n",
       "      <td>DEPT OF ENVIRONMENT PROTECTION</td>\n",
       "      <td>BROWN</td>\n",
       "      <td>TRACYANN</td>\n",
       "      <td>NaN</td>\n",
       "      <td>02/23/2004</td>\n",
       "      <td>QUEENS</td>\n",
       "      <td>COMMUNITY ASSISTANT</td>\n",
       "      <td>ACTIVE</td>\n",
       "      <td>37816.0</td>\n",
       "      <td>per Annum</td>\n",
       "      <td>2080.0</td>\n",
       "      <td>37235.48</td>\n",
       "      <td>11.00</td>\n",
       "      <td>206.04</td>\n",
       "      <td>1309.56</td>\n",
       "    </tr>\n",
       "    <tr>\n",
       "      <th>1</th>\n",
       "      <td>2020</td>\n",
       "      <td>56</td>\n",
       "      <td>POLICE DEPARTMENT</td>\n",
       "      <td>WONG</td>\n",
       "      <td>CHIWAI</td>\n",
       "      <td>NaN</td>\n",
       "      <td>07/08/2015</td>\n",
       "      <td>BROOKLYN</td>\n",
       "      <td>POLICE OFFICER</td>\n",
       "      <td>ACTIVE</td>\n",
       "      <td>63125.0</td>\n",
       "      <td>per Annum</td>\n",
       "      <td>2080.0</td>\n",
       "      <td>60758.85</td>\n",
       "      <td>343.13</td>\n",
       "      <td>10842.71</td>\n",
       "      <td>10325.31</td>\n",
       "    </tr>\n",
       "    <tr>\n",
       "      <th>2</th>\n",
       "      <td>2020</td>\n",
       "      <td>742</td>\n",
       "      <td>DEPT OF ED PEDAGOGICAL</td>\n",
       "      <td>FARRELL</td>\n",
       "      <td>TARA</td>\n",
       "      <td>E</td>\n",
       "      <td>09/09/1996</td>\n",
       "      <td>MANHATTAN</td>\n",
       "      <td>TEACHER SPECIAL EDUCATION</td>\n",
       "      <td>ACTIVE</td>\n",
       "      <td>121226.0</td>\n",
       "      <td>per Annum</td>\n",
       "      <td>0.0</td>\n",
       "      <td>118638.72</td>\n",
       "      <td>0.00</td>\n",
       "      <td>0.00</td>\n",
       "      <td>13069.69</td>\n",
       "    </tr>\n",
       "    <tr>\n",
       "      <th>3</th>\n",
       "      <td>2020</td>\n",
       "      <td>827</td>\n",
       "      <td>DEPARTMENT OF SANITATION</td>\n",
       "      <td>ATTANASIO</td>\n",
       "      <td>JOSEPH</td>\n",
       "      <td>NaN</td>\n",
       "      <td>10/18/1999</td>\n",
       "      <td>QUEENS</td>\n",
       "      <td>SANITATION WORKER</td>\n",
       "      <td>ACTIVE</td>\n",
       "      <td>77318.0</td>\n",
       "      <td>per Annum</td>\n",
       "      <td>2080.0</td>\n",
       "      <td>75833.83</td>\n",
       "      <td>455.50</td>\n",
       "      <td>28225.89</td>\n",
       "      <td>17602.11</td>\n",
       "    </tr>\n",
       "    <tr>\n",
       "      <th>4</th>\n",
       "      <td>2020</td>\n",
       "      <td>744</td>\n",
       "      <td>DEPT OF ED PARA PROFESSIONALS</td>\n",
       "      <td>MCNEIL</td>\n",
       "      <td>GLORIA</td>\n",
       "      <td>D</td>\n",
       "      <td>09/28/1989</td>\n",
       "      <td>MANHATTAN</td>\n",
       "      <td>ANNUAL ED PARA</td>\n",
       "      <td>ACTIVE</td>\n",
       "      <td>46333.0</td>\n",
       "      <td>per Annum</td>\n",
       "      <td>0.0</td>\n",
       "      <td>45344.28</td>\n",
       "      <td>0.00</td>\n",
       "      <td>0.00</td>\n",
       "      <td>5076.22</td>\n",
       "    </tr>\n",
       "  </tbody>\n",
       "</table>\n",
       "</div>"
      ],
      "text/plain": [
       "   fiscal_year  payroll_number                     agency_name  last_name  \\\n",
       "0         2020             826  DEPT OF ENVIRONMENT PROTECTION      BROWN   \n",
       "1         2020              56               POLICE DEPARTMENT       WONG   \n",
       "2         2020             742          DEPT OF ED PEDAGOGICAL    FARRELL   \n",
       "3         2020             827        DEPARTMENT OF SANITATION  ATTANASIO   \n",
       "4         2020             744   DEPT OF ED PARA PROFESSIONALS     MCNEIL   \n",
       "\n",
       "  first_name mid_init agency_start_date work_location_borough  \\\n",
       "0   TRACYANN      NaN        02/23/2004                QUEENS   \n",
       "1     CHIWAI      NaN        07/08/2015              BROOKLYN   \n",
       "2       TARA        E        09/09/1996             MANHATTAN   \n",
       "3     JOSEPH      NaN        10/18/1999                QUEENS   \n",
       "4     GLORIA        D        09/28/1989             MANHATTAN   \n",
       "\n",
       "           title_description leave_status_as_of_june_30  base_salary  \\\n",
       "0        COMMUNITY ASSISTANT                     ACTIVE      37816.0   \n",
       "1             POLICE OFFICER                     ACTIVE      63125.0   \n",
       "2  TEACHER SPECIAL EDUCATION                     ACTIVE     121226.0   \n",
       "3          SANITATION WORKER                     ACTIVE      77318.0   \n",
       "4             ANNUAL ED PARA                     ACTIVE      46333.0   \n",
       "\n",
       "   pay_basis  regular_hours  regular_gross_paid  ot_hours  total_ot_paid  \\\n",
       "0  per Annum         2080.0            37235.48     11.00         206.04   \n",
       "1  per Annum         2080.0            60758.85    343.13       10842.71   \n",
       "2  per Annum            0.0           118638.72      0.00           0.00   \n",
       "3  per Annum         2080.0            75833.83    455.50       28225.89   \n",
       "4  per Annum            0.0            45344.28      0.00           0.00   \n",
       "\n",
       "   total_other_pay  \n",
       "0          1309.56  \n",
       "1         10325.31  \n",
       "2         13069.69  \n",
       "3         17602.11  \n",
       "4          5076.22  "
      ]
     },
     "execution_count": 3,
     "metadata": {},
     "output_type": "execute_result"
    }
   ],
   "source": [
    "budget_df = pd.read_csv('data/budget-sample.csv')\n",
    "budget_df.head()"
   ]
  },
  {
   "cell_type": "code",
   "execution_count": 4,
   "id": "c1b11da8",
   "metadata": {},
   "outputs": [
    {
     "name": "stdout",
     "output_type": "stream",
     "text": [
      "<class 'pandas.core.frame.DataFrame'>\n",
      "RangeIndex: 16660 entries, 0 to 16659\n",
      "Data columns (total 17 columns):\n",
      " #   Column                      Non-Null Count  Dtype  \n",
      "---  ------                      --------------  -----  \n",
      " 0   fiscal_year                 16660 non-null  int64  \n",
      " 1   payroll_number              16660 non-null  int64  \n",
      " 2   agency_name                 16660 non-null  object \n",
      " 3   last_name                   16642 non-null  object \n",
      " 4   first_name                  16642 non-null  object \n",
      " 5   mid_init                    9954 non-null   object \n",
      " 6   agency_start_date           16657 non-null  object \n",
      " 7   work_location_borough       16660 non-null  object \n",
      " 8   title_description           16659 non-null  object \n",
      " 9   leave_status_as_of_june_30  16660 non-null  object \n",
      " 10  base_salary                 16660 non-null  float64\n",
      " 11  pay_basis                   16660 non-null  object \n",
      " 12  regular_hours               16660 non-null  float64\n",
      " 13  regular_gross_paid          16660 non-null  float64\n",
      " 14  ot_hours                    16660 non-null  float64\n",
      " 15  total_ot_paid               16660 non-null  float64\n",
      " 16  total_other_pay             16660 non-null  float64\n",
      "dtypes: float64(6), int64(2), object(9)\n",
      "memory usage: 2.2+ MB\n"
     ]
    }
   ],
   "source": [
    "budget_df.info()"
   ]
  },
  {
   "cell_type": "code",
   "execution_count": 5,
   "id": "771a417c",
   "metadata": {},
   "outputs": [
    {
     "data": {
      "text/plain": [
       "array(['DEPT OF ENVIRONMENT PROTECTION', 'POLICE DEPARTMENT',\n",
       "       'DEPT OF ED PEDAGOGICAL', 'DEPARTMENT OF SANITATION',\n",
       "       'DEPT OF ED PARA PROFESSIONALS', 'FIRE DEPARTMENT',\n",
       "       'OFFICE OF THE COMPTROLLER', 'COMMUNITY COLLEGE (MANHATTAN)',\n",
       "       'HRA/DEPT OF SOCIAL SERVICES', 'LAW DEPARTMENT',\n",
       "       'DEPT OF INFO TECH & TELECOMM', \"ADMIN FOR CHILDREN'S SVCS\",\n",
       "       'HOUSING PRESERVATION & DVLPMNT', 'DISTRICT ATTORNEY-MANHATTAN',\n",
       "       'NYC HOUSING AUTHORITY', 'DEPARTMENT OF EDUCATION ADMIN',\n",
       "       'DEPT OF CITYWIDE ADMIN SVCS', 'DEPT OF PARKS & RECREATION',\n",
       "       'DEPT OF HEALTH/MENTAL HYGIENE', 'DEPARTMENT OF CORRECTION',\n",
       "       'COMMUNITY COLLEGE (QUEENSBORO)', 'DEPT. OF DESIGN & CONSTRUCTION',\n",
       "       'NYC EMPLOYEES RETIREMENT SYS', 'DEPARTMENT OF FINANCE',\n",
       "       'COMMUNITY COLLEGE (LAGUARDIA)', 'DEPARTMENT OF TRANSPORTATION',\n",
       "       'BOROUGH PRESIDENT-BRONX', 'BRONX DISTRICT ATTORNEY',\n",
       "       'DEPT. OF HOMELESS SERVICES', 'DISTRICT ATTORNEY-SPECIAL NARC',\n",
       "       'MAYORS OFFICE OF CONTRACT SVCS', 'DEPT OF YOUTH & COMM DEV SRVS',\n",
       "       'COMMUNITY COLLEGE (KINGSBORO)', 'DEPARTMENT OF PROBATION',\n",
       "       'PRESIDENT BOROUGH OF MANHATTAN', 'DISTRICT ATTORNEY QNS COUNTY',\n",
       "       'DEPARTMENT OF BUILDINGS', 'DISTRICT ATTORNEY KINGS COUNTY',\n",
       "       'OFF OF PAYROLL ADMINISTRATION', 'DEPARTMENT OF INVESTIGATION',\n",
       "       'OFFICE OF LABOR RELATIONS', 'OFFICE OF EMERGENCY MANAGEMENT',\n",
       "       'GUTTMAN COMMUNITY COLLEGE', 'TAXI & LIMOUSINE COMMISSION',\n",
       "       'CUNY CENTRAL OFFICE', 'BOARD OF ELECTION',\n",
       "       'COMMUNITY COLLEGE (HOSTOS)', 'OFFICE OF THE MAYOR',\n",
       "       'TEACHERS RETIREMENT SYSTEM', 'CIVILIAN COMPLAINT REVIEW BD',\n",
       "       'TAX COMMISSION', 'HUMAN RIGHTS COMMISSION',\n",
       "       'FINANCIAL INFO SVCS AGENCY', 'DEPARTMENT OF BUSINESS SERV.',\n",
       "       'CITY COUNCIL', 'NYC FIRE PENSION FUND',\n",
       "       'BRONX COMMUNITY BOARD #6', 'ADMIN TRIALS AND HEARINGS',\n",
       "       'CAMPAIGN FINANCE BOARD', 'CONSUMER AFFAIRS',\n",
       "       'COMMUNITY COLLEGE (BRONX)', 'DEPT OF RECORDS & INFO SERVICE',\n",
       "       'OFFICE OF THE ACTUARY', 'OFFICE OF MANAGEMENT & BUDGET',\n",
       "       'INDEPENDENT BUDGET OFFICE', 'CULTURAL AFFAIRS',\n",
       "       'BUSINESS INTEGRITY COMMISSION', 'DEPARTMENT OF CITY PLANNING',\n",
       "       'BRONX COMMUNITY BOARD #11', \"NYC DEPT OF VETERANS' SERVICES\",\n",
       "       'MANHATTAN COMMUNITY BOARD #6', 'DEPARTMENT FOR THE AGING',\n",
       "       'CONFLICTS OF INTEREST BOARD', 'BOARD OF CORRECTION',\n",
       "       'HUNTER COLLEGE HIGH SCHOOL', 'NYC POLICE PENSION FUND',\n",
       "       'BOROUGH PRESIDENT-QUEENS', 'BOROUGH PRESIDENT-BROOKLYN',\n",
       "       'OFFICE OF COLLECTIVE BARGAININ', 'LANDMARKS PRESERVATION COMM',\n",
       "       'BROOKLYN COMMUNITY BOARD #13', 'PUBLIC ADVOCATE',\n",
       "       'PUBLIC ADMINISTRATOR-KINGS', 'CIVIL SERVICE COMMISSION',\n",
       "       'CITY CLERK', 'PUBLIC ADMINISTRATOR-BRONX',\n",
       "       'QUEENS COMMUNITY BOARD #8'], dtype=object)"
      ]
     },
     "execution_count": 5,
     "metadata": {},
     "output_type": "execute_result"
    }
   ],
   "source": [
    "budget_df.agency_name.unique()"
   ]
  },
  {
   "cell_type": "code",
   "execution_count": 6,
   "id": "68756718",
   "metadata": {},
   "outputs": [
    {
     "data": {
      "image/png": "[encoded data removed]",
      "text/plain": [
       "<Figure size 640x480 with 1 Axes>"
      ]
     },
     "metadata": {},
     "output_type": "display_data"
    }
   ],
   "source": [
    "price_hist = sns.histplot(data=budget_df, x='base_salary')"
   ]
  },
  {
   "cell_type": "code",
   "execution_count": 7,
   "id": "9e07ef12",
   "metadata": {},
   "outputs": [
    {
     "name": "stdout",
     "output_type": "stream",
     "text": [
      "In general you should not expect a base salary of over 125K, it's not common at all.\n"
     ]
    }
   ],
   "source": [
    "print(\"In general you should not expect a base salary of over 125K, it's not common at all.\")"
   ]
  },
  {
   "cell_type": "code",
   "execution_count": 8,
   "id": "2f51e8bc",
   "metadata": {},
   "outputs": [
    {
     "data": {
      "image/png": "[encoded data removed]",
      "text/plain": [
       "<Figure size 640x480 with 1 Axes>"
      ]
     },
     "metadata": {},
     "output_type": "display_data"
    }
   ],
   "source": [
    "salary_bp = sns.boxplot(data=budget_df, x='base_salary')"
   ]
  },
  {
   "cell_type": "code",
   "execution_count": 9,
   "id": "eb091011",
   "metadata": {},
   "outputs": [
    {
     "name": "stdout",
     "output_type": "stream",
     "text": [
      "The average person should expect would be between 50K and 100K and anything more is very rare, you should mamange your expectations.\n"
     ]
    }
   ],
   "source": [
    "print(\"The average person should expect would be between 50K and 100K and anything more is very rare, you should mamange your expectations.\")"
   ]
  },
  {
   "cell_type": "code",
   "execution_count": 10,
   "id": "609f8fbb",
   "metadata": {},
   "outputs": [
    {
     "data": {
      "image/png": "[encoded data removed]",
      "text/plain": [
       "<Figure size 640x480 with 1 Axes>"
      ]
     },
     "metadata": {},
     "output_type": "display_data"
    }
   ],
   "source": [
    "salary_bp_loc = sns.boxplot(data=budget_df, y='work_location_borough', x='base_salary')"
   ]
  },
  {
   "cell_type": "code",
   "execution_count": 11,
   "id": "455363a5",
   "metadata": {},
   "outputs": [
    {
     "name": "stdout",
     "output_type": "stream",
     "text": [
      "The average salary in Manhattan is much higher in the other boroughs while the other bouroughs are pretty close to each other. \n"
     ]
    }
   ],
   "source": [
    "print(\"The average salary in Manhattan is much higher in the other boroughs while the other bouroughs are pretty close to each other. \")"
   ]
  },
  {
   "cell_type": "code",
   "execution_count": 12,
   "id": "a4a0c957",
   "metadata": {},
   "outputs": [],
   "source": [
    "# salary_bp_agency = sns.barplot(data=budget_df, y='agency_name', x='base_salary')\n",
    "# bar_graph = budget_df[\"base_salary\"].value_counts()\n",
    "# bar_graph = bar_graph.sort_values(ascending=False)\n",
    "# bar_graph.plot(kind='barh', figsize=(13,8)) \n",
    "\n",
    "\n",
    "\n",
    "# # drawing the plot\n",
    "# sns.barplot(data=budget_df, y='agency_name', x='base_salary', order=budget_df.sort_values('base_salary').agency_name)\n",
    "# plt.show()"
   ]
  },
  {
   "cell_type": "code",
   "execution_count": null,
   "id": "02dcef78",
   "metadata": {},
   "outputs": [],
   "source": []
  },
  {
   "cell_type": "markdown",
   "id": "5fe01082",
   "metadata": {},
   "source": [
    "# Using the BX-Police.csv data:\n",
    "* create a time series chart illustrating their average base salary over time (by fiscal_year).  \n",
    "* What trend does this show? \n",
    "* Why do you think the trend exists?\n"
   ]
  },
  {
   "cell_type": "code",
   "execution_count": 13,
   "id": "dc30ddab",
   "metadata": {},
   "outputs": [
    {
     "data": {
      "text/html": [
       "<div>\n",
       "<style scoped>\n",
       "    .dataframe tbody tr th:only-of-type {\n",
       "        vertical-align: middle;\n",
       "    }\n",
       "\n",
       "    .dataframe tbody tr th {\n",
       "        vertical-align: top;\n",
       "    }\n",
       "\n",
       "    .dataframe thead th {\n",
       "        text-align: right;\n",
       "    }\n",
       "</style>\n",
       "<table border=\"1\" class=\"dataframe\">\n",
       "  <thead>\n",
       "    <tr style=\"text-align: right;\">\n",
       "      <th></th>\n",
       "      <th>fiscal_year</th>\n",
       "      <th>payroll_number</th>\n",
       "      <th>agency_name</th>\n",
       "      <th>last_name</th>\n",
       "      <th>first_name</th>\n",
       "      <th>mid_init</th>\n",
       "      <th>agency_start_date</th>\n",
       "      <th>work_location_borough</th>\n",
       "      <th>title_description</th>\n",
       "      <th>leave_status_as_of_june_30</th>\n",
       "      <th>base_salary</th>\n",
       "      <th>pay_basis</th>\n",
       "      <th>regular_hours</th>\n",
       "      <th>regular_gross_paid</th>\n",
       "      <th>ot_hours</th>\n",
       "      <th>total_ot_paid</th>\n",
       "      <th>total_other_pay</th>\n",
       "    </tr>\n",
       "  </thead>\n",
       "  <tbody>\n",
       "    <tr>\n",
       "      <th>0</th>\n",
       "      <td>2019</td>\n",
       "      <td>56.0</td>\n",
       "      <td>POLICE DEPARTMENT</td>\n",
       "      <td>GUZMAN</td>\n",
       "      <td>ALBERTO</td>\n",
       "      <td>NaN</td>\n",
       "      <td>07/05/2017</td>\n",
       "      <td>BRONX</td>\n",
       "      <td>POLICE OFFICER</td>\n",
       "      <td>ACTIVE</td>\n",
       "      <td>45000.0</td>\n",
       "      <td>per Annum</td>\n",
       "      <td>2040.00</td>\n",
       "      <td>43541.17</td>\n",
       "      <td>243.83</td>\n",
       "      <td>8597.10</td>\n",
       "      <td>3710.14</td>\n",
       "    </tr>\n",
       "    <tr>\n",
       "      <th>1</th>\n",
       "      <td>2015</td>\n",
       "      <td>NaN</td>\n",
       "      <td>POLICE DEPARTMENT</td>\n",
       "      <td>DERASMO</td>\n",
       "      <td>MARIELENA</td>\n",
       "      <td>NaN</td>\n",
       "      <td>07/06/2010</td>\n",
       "      <td>BRONX</td>\n",
       "      <td>POLICE OFFICER</td>\n",
       "      <td>ACTIVE</td>\n",
       "      <td>56609.0</td>\n",
       "      <td>per Annum</td>\n",
       "      <td>2085.72</td>\n",
       "      <td>54578.49</td>\n",
       "      <td>335.83</td>\n",
       "      <td>13344.33</td>\n",
       "      <td>4387.03</td>\n",
       "    </tr>\n",
       "    <tr>\n",
       "      <th>2</th>\n",
       "      <td>2018</td>\n",
       "      <td>56.0</td>\n",
       "      <td>POLICE DEPARTMENT</td>\n",
       "      <td>GARCES</td>\n",
       "      <td>MICHAEL</td>\n",
       "      <td>A</td>\n",
       "      <td>01/09/2013</td>\n",
       "      <td>BRONX</td>\n",
       "      <td>POLICE OFFICER</td>\n",
       "      <td>ACTIVE</td>\n",
       "      <td>63125.0</td>\n",
       "      <td>per Annum</td>\n",
       "      <td>2045.72</td>\n",
       "      <td>62809.14</td>\n",
       "      <td>145.00</td>\n",
       "      <td>7349.27</td>\n",
       "      <td>9801.34</td>\n",
       "    </tr>\n",
       "    <tr>\n",
       "      <th>3</th>\n",
       "      <td>2017</td>\n",
       "      <td>NaN</td>\n",
       "      <td>POLICE DEPARTMENT</td>\n",
       "      <td>ROSSI</td>\n",
       "      <td>THOMAS</td>\n",
       "      <td>C</td>\n",
       "      <td>01/06/2016</td>\n",
       "      <td>BRONX</td>\n",
       "      <td>POLICE OFFICER</td>\n",
       "      <td>ACTIVE</td>\n",
       "      <td>46805.0</td>\n",
       "      <td>per Annum</td>\n",
       "      <td>2051.43</td>\n",
       "      <td>49411.14</td>\n",
       "      <td>121.00</td>\n",
       "      <td>4213.27</td>\n",
       "      <td>6490.72</td>\n",
       "    </tr>\n",
       "    <tr>\n",
       "      <th>4</th>\n",
       "      <td>2019</td>\n",
       "      <td>56.0</td>\n",
       "      <td>POLICE DEPARTMENT</td>\n",
       "      <td>GARRETT</td>\n",
       "      <td>DENISE</td>\n",
       "      <td>NaN</td>\n",
       "      <td>05/30/2001</td>\n",
       "      <td>BRONX</td>\n",
       "      <td>SCHOOL SAFETY AGENT</td>\n",
       "      <td>ACTIVE</td>\n",
       "      <td>46737.0</td>\n",
       "      <td>per Annum</td>\n",
       "      <td>2040.00</td>\n",
       "      <td>46608.91</td>\n",
       "      <td>0.00</td>\n",
       "      <td>0.00</td>\n",
       "      <td>1202.56</td>\n",
       "    </tr>\n",
       "  </tbody>\n",
       "</table>\n",
       "</div>"
      ],
      "text/plain": [
       "   fiscal_year  payroll_number        agency_name last_name first_name  \\\n",
       "0         2019            56.0  POLICE DEPARTMENT    GUZMAN    ALBERTO   \n",
       "1         2015             NaN  POLICE DEPARTMENT   DERASMO  MARIELENA   \n",
       "2         2018            56.0  POLICE DEPARTMENT    GARCES    MICHAEL   \n",
       "3         2017             NaN  POLICE DEPARTMENT     ROSSI     THOMAS   \n",
       "4         2019            56.0  POLICE DEPARTMENT   GARRETT     DENISE   \n",
       "\n",
       "  mid_init agency_start_date work_location_borough    title_description  \\\n",
       "0      NaN        07/05/2017                 BRONX       POLICE OFFICER   \n",
       "1      NaN        07/06/2010                 BRONX       POLICE OFFICER   \n",
       "2        A        01/09/2013                 BRONX       POLICE OFFICER   \n",
       "3        C        01/06/2016                 BRONX       POLICE OFFICER   \n",
       "4      NaN        05/30/2001                 BRONX  SCHOOL SAFETY AGENT   \n",
       "\n",
       "  leave_status_as_of_june_30  base_salary  pay_basis  regular_hours  \\\n",
       "0                     ACTIVE      45000.0  per Annum        2040.00   \n",
       "1                     ACTIVE      56609.0  per Annum        2085.72   \n",
       "2                     ACTIVE      63125.0  per Annum        2045.72   \n",
       "3                     ACTIVE      46805.0  per Annum        2051.43   \n",
       "4                     ACTIVE      46737.0  per Annum        2040.00   \n",
       "\n",
       "   regular_gross_paid  ot_hours  total_ot_paid  total_other_pay  \n",
       "0            43541.17    243.83        8597.10          3710.14  \n",
       "1            54578.49    335.83       13344.33          4387.03  \n",
       "2            62809.14    145.00        7349.27          9801.34  \n",
       "3            49411.14    121.00        4213.27          6490.72  \n",
       "4            46608.91      0.00           0.00          1202.56  "
      ]
     },
     "execution_count": 13,
     "metadata": {},
     "output_type": "execute_result"
    }
   ],
   "source": [
    "police_df = pd.read_csv(\"data/BX-Police.csv\")\n",
    "police_df.head()"
   ]
  },
  {
   "cell_type": "code",
   "execution_count": 14,
   "id": "a4811143",
   "metadata": {},
   "outputs": [
    {
     "data": {
      "text/plain": [
       "<AxesSubplot: xlabel='fiscal_year', ylabel='base_salary'>"
      ]
     },
     "execution_count": 14,
     "metadata": {},
     "output_type": "execute_result"
    },
    {
     "data": {
      "image/png": "[encoded data removed]",
      "text/plain": [
       "<Figure size 640x480 with 1 Axes>"
      ]
     },
     "metadata": {},
     "output_type": "display_data"
    }
   ],
   "source": [
    "sns.lineplot(x=\"fiscal_year\", y=\"base_salary\", data=police_df)"
   ]
  },
  {
   "cell_type": "code",
   "execution_count": 15,
   "id": "b213c02b",
   "metadata": {},
   "outputs": [
    {
     "name": "stdout",
     "output_type": "stream",
     "text": [
      "This trend shows that the base salary of officers is on a steady increase from 2015 to 2021.\n",
      "I think this trend exists from the expanded police budget that increases over the years.\n"
     ]
    }
   ],
   "source": [
    "print(\"This trend shows that the base salary of officers is on a steady increase from 2015 to 2021.\")\n",
    "print(\"I think this trend exists from the expanded police budget that increases over the years.\")"
   ]
  },
  {
   "cell_type": "markdown",
   "id": "9d3eb95b",
   "metadata": {},
   "source": [
    "# Using Stocks.csv\n",
    "* Tell me a story about the Google stock for the year. \n",
    "* Any story you'd like to tell. \n"
   ]
  },
  {
   "cell_type": "code",
   "execution_count": null,
   "id": "46f2609c",
   "metadata": {},
   "outputs": [],
   "source": []
  },
  {
   "cell_type": "code",
   "execution_count": null,
   "id": "e42382f5",
   "metadata": {},
   "outputs": [],
   "source": []
  },
  {
   "cell_type": "markdown",
   "id": "83c6113b",
   "metadata": {},
   "source": [
    "# Using Sales.csv \n",
    "* make a time series chart that shows the sales for each item over the past 12 months.  \n",
    "* What does this tell you about the items.  \n",
    "* Which item would you recommend they push more of and which item/s would you recommend they stop selling?\n",
    "* show what percentage of each item contributes to total sales. \n"
   ]
  },
  {
   "cell_type": "code",
   "execution_count": 36,
   "id": "a26211af",
   "metadata": {},
   "outputs": [
    {
     "data": {
      "text/html": [
       "<div>\n",
       "<style scoped>\n",
       "    .dataframe tbody tr th:only-of-type {\n",
       "        vertical-align: middle;\n",
       "    }\n",
       "\n",
       "    .dataframe tbody tr th {\n",
       "        vertical-align: top;\n",
       "    }\n",
       "\n",
       "    .dataframe thead th {\n",
       "        text-align: right;\n",
       "    }\n",
       "</style>\n",
       "<table border=\"1\" class=\"dataframe\">\n",
       "  <thead>\n",
       "    <tr style=\"text-align: right;\">\n",
       "      <th></th>\n",
       "      <th>month_number</th>\n",
       "      <th>facecream</th>\n",
       "      <th>facewash</th>\n",
       "      <th>toothpaste</th>\n",
       "      <th>bathingsoap</th>\n",
       "      <th>shampoo</th>\n",
       "      <th>moisturizer</th>\n",
       "    </tr>\n",
       "  </thead>\n",
       "  <tbody>\n",
       "    <tr>\n",
       "      <th>0</th>\n",
       "      <td>1</td>\n",
       "      <td>2500</td>\n",
       "      <td>1500</td>\n",
       "      <td>5200</td>\n",
       "      <td>9200</td>\n",
       "      <td>1200</td>\n",
       "      <td>1500</td>\n",
       "    </tr>\n",
       "    <tr>\n",
       "      <th>1</th>\n",
       "      <td>2</td>\n",
       "      <td>2630</td>\n",
       "      <td>1200</td>\n",
       "      <td>5100</td>\n",
       "      <td>6100</td>\n",
       "      <td>2100</td>\n",
       "      <td>1200</td>\n",
       "    </tr>\n",
       "    <tr>\n",
       "      <th>2</th>\n",
       "      <td>3</td>\n",
       "      <td>2140</td>\n",
       "      <td>1340</td>\n",
       "      <td>4550</td>\n",
       "      <td>9550</td>\n",
       "      <td>3550</td>\n",
       "      <td>1340</td>\n",
       "    </tr>\n",
       "    <tr>\n",
       "      <th>3</th>\n",
       "      <td>4</td>\n",
       "      <td>3400</td>\n",
       "      <td>1130</td>\n",
       "      <td>5870</td>\n",
       "      <td>8870</td>\n",
       "      <td>1870</td>\n",
       "      <td>1130</td>\n",
       "    </tr>\n",
       "    <tr>\n",
       "      <th>4</th>\n",
       "      <td>5</td>\n",
       "      <td>3600</td>\n",
       "      <td>1740</td>\n",
       "      <td>4560</td>\n",
       "      <td>7760</td>\n",
       "      <td>1560</td>\n",
       "      <td>1740</td>\n",
       "    </tr>\n",
       "    <tr>\n",
       "      <th>5</th>\n",
       "      <td>6</td>\n",
       "      <td>2760</td>\n",
       "      <td>1555</td>\n",
       "      <td>4890</td>\n",
       "      <td>7490</td>\n",
       "      <td>1890</td>\n",
       "      <td>1555</td>\n",
       "    </tr>\n",
       "    <tr>\n",
       "      <th>6</th>\n",
       "      <td>7</td>\n",
       "      <td>2980</td>\n",
       "      <td>1120</td>\n",
       "      <td>4780</td>\n",
       "      <td>8980</td>\n",
       "      <td>1780</td>\n",
       "      <td>1120</td>\n",
       "    </tr>\n",
       "    <tr>\n",
       "      <th>7</th>\n",
       "      <td>8</td>\n",
       "      <td>3700</td>\n",
       "      <td>1400</td>\n",
       "      <td>5860</td>\n",
       "      <td>9960</td>\n",
       "      <td>2860</td>\n",
       "      <td>1400</td>\n",
       "    </tr>\n",
       "    <tr>\n",
       "      <th>8</th>\n",
       "      <td>9</td>\n",
       "      <td>3540</td>\n",
       "      <td>1780</td>\n",
       "      <td>6100</td>\n",
       "      <td>8100</td>\n",
       "      <td>2100</td>\n",
       "      <td>1780</td>\n",
       "    </tr>\n",
       "    <tr>\n",
       "      <th>9</th>\n",
       "      <td>10</td>\n",
       "      <td>1990</td>\n",
       "      <td>1890</td>\n",
       "      <td>8300</td>\n",
       "      <td>10300</td>\n",
       "      <td>2300</td>\n",
       "      <td>1890</td>\n",
       "    </tr>\n",
       "    <tr>\n",
       "      <th>10</th>\n",
       "      <td>11</td>\n",
       "      <td>2340</td>\n",
       "      <td>2100</td>\n",
       "      <td>7300</td>\n",
       "      <td>13300</td>\n",
       "      <td>2400</td>\n",
       "      <td>2100</td>\n",
       "    </tr>\n",
       "    <tr>\n",
       "      <th>11</th>\n",
       "      <td>12</td>\n",
       "      <td>2900</td>\n",
       "      <td>1760</td>\n",
       "      <td>7400</td>\n",
       "      <td>14400</td>\n",
       "      <td>1800</td>\n",
       "      <td>1760</td>\n",
       "    </tr>\n",
       "  </tbody>\n",
       "</table>\n",
       "</div>"
      ],
      "text/plain": [
       "    month_number  facecream  facewash  toothpaste  bathingsoap  shampoo  \\\n",
       "0              1       2500      1500        5200         9200     1200   \n",
       "1              2       2630      1200        5100         6100     2100   \n",
       "2              3       2140      1340        4550         9550     3550   \n",
       "3              4       3400      1130        5870         8870     1870   \n",
       "4              5       3600      1740        4560         7760     1560   \n",
       "5              6       2760      1555        4890         7490     1890   \n",
       "6              7       2980      1120        4780         8980     1780   \n",
       "7              8       3700      1400        5860         9960     2860   \n",
       "8              9       3540      1780        6100         8100     2100   \n",
       "9             10       1990      1890        8300        10300     2300   \n",
       "10            11       2340      2100        7300        13300     2400   \n",
       "11            12       2900      1760        7400        14400     1800   \n",
       "\n",
       "    moisturizer  \n",
       "0          1500  \n",
       "1          1200  \n",
       "2          1340  \n",
       "3          1130  \n",
       "4          1740  \n",
       "5          1555  \n",
       "6          1120  \n",
       "7          1400  \n",
       "8          1780  \n",
       "9          1890  \n",
       "10         2100  \n",
       "11         1760  "
      ]
     },
     "execution_count": 36,
     "metadata": {},
     "output_type": "execute_result"
    }
   ],
   "source": [
    "sales_df = pd.read_csv('data/Sales.csv')\n",
    "#sales_df = sales_df.T\n",
    "sales_df\n"
   ]
  },
  {
   "cell_type": "code",
   "execution_count": 17,
   "id": "4f9557db",
   "metadata": {},
   "outputs": [
    {
     "data": {
      "image/png": "[encoded data removed]",
      "text/plain": [
       "<Figure size 640x480 with 1 Axes>"
      ]
     },
     "metadata": {},
     "output_type": "display_data"
    }
   ],
   "source": [
    "# sns.lineplot(data=sales_df)\n",
    "\n",
    "ax= sns.lineplot(x='month_number', y='facecream', data=sales_df, label='facecream')\n",
    "ax1 = sns.lineplot(x='month_number', y='facewash', data=sales_df, label='facewash')\n",
    "ax2= sns.lineplot(x='month_number', y='toothpaste', data=sales_df, label='toothpaste')\n",
    "ax3 = sns.lineplot(x='month_number', y='bathingsoap', data=sales_df, label='bathingsoap')\n",
    "ax4= sns.lineplot(x='month_number', y='shampoo', data=sales_df, label='shampoo')\n",
    "ax5 = sns.lineplot(x='month_number', y='moisturizer', data=sales_df, label='moisturizer')\n",
    "plt.xlabel(\"Month\")\n",
    "plt.ylabel(\"Sales\")\n",
    "plt.legend()\n",
    "plt.show()\n"
   ]
  },
  {
   "cell_type": "code",
   "execution_count": 57,
   "id": "fa3eb58d",
   "metadata": {},
   "outputs": [
    {
     "name": "stdout",
     "output_type": "stream",
     "text": [
      "This tells us how each of the items sell throughout the year as well as us being able to figure out reasons to why some sales peak at certain times of the year.\n"
     ]
    }
   ],
   "source": [
    "print(\"This tells us how each of the items sell throughout the year as well as us being able to figure out reasons to why some sales peak at certain times of the year.\")"
   ]
  },
  {
   "cell_type": "code",
   "execution_count": 56,
   "id": "4409bda0",
   "metadata": {},
   "outputs": [
    {
     "name": "stdout",
     "output_type": "stream",
     "text": [
      "Shampoo is a product that they should probably stop selling as throughout the year it cannot keep up with steady sales.\n",
      "This shows that bathing soap is a product that they really need to keep push during the later half of the year as around the holidays the price spikes\n"
     ]
    }
   ],
   "source": [
    "print('Shampoo is a product that they should probably stop selling as throughout the year it cannot keep up with steady sales.')\n",
    "print('This shows that bathing soap is a product that they really need to keep push during the later half of the year as around the holidays the price spikes')\n"
   ]
  },
  {
   "cell_type": "code",
   "execution_count": 39,
   "id": "25cee39c",
   "metadata": {},
   "outputs": [
    {
     "data": {
      "text/html": [
       "<div>\n",
       "<style scoped>\n",
       "    .dataframe tbody tr th:only-of-type {\n",
       "        vertical-align: middle;\n",
       "    }\n",
       "\n",
       "    .dataframe tbody tr th {\n",
       "        vertical-align: top;\n",
       "    }\n",
       "\n",
       "    .dataframe thead th {\n",
       "        text-align: right;\n",
       "    }\n",
       "</style>\n",
       "<table border=\"1\" class=\"dataframe\">\n",
       "  <thead>\n",
       "    <tr style=\"text-align: right;\">\n",
       "      <th></th>\n",
       "      <th>facecream</th>\n",
       "      <th>facewash</th>\n",
       "      <th>toothpaste</th>\n",
       "      <th>bathingsoap</th>\n",
       "      <th>shampoo</th>\n",
       "      <th>moisturizer</th>\n",
       "    </tr>\n",
       "  </thead>\n",
       "  <tbody>\n",
       "    <tr>\n",
       "      <th>0</th>\n",
       "      <td>2500</td>\n",
       "      <td>1500</td>\n",
       "      <td>5200</td>\n",
       "      <td>9200</td>\n",
       "      <td>1200</td>\n",
       "      <td>1500</td>\n",
       "    </tr>\n",
       "    <tr>\n",
       "      <th>1</th>\n",
       "      <td>2630</td>\n",
       "      <td>1200</td>\n",
       "      <td>5100</td>\n",
       "      <td>6100</td>\n",
       "      <td>2100</td>\n",
       "      <td>1200</td>\n",
       "    </tr>\n",
       "    <tr>\n",
       "      <th>2</th>\n",
       "      <td>2140</td>\n",
       "      <td>1340</td>\n",
       "      <td>4550</td>\n",
       "      <td>9550</td>\n",
       "      <td>3550</td>\n",
       "      <td>1340</td>\n",
       "    </tr>\n",
       "    <tr>\n",
       "      <th>3</th>\n",
       "      <td>3400</td>\n",
       "      <td>1130</td>\n",
       "      <td>5870</td>\n",
       "      <td>8870</td>\n",
       "      <td>1870</td>\n",
       "      <td>1130</td>\n",
       "    </tr>\n",
       "    <tr>\n",
       "      <th>4</th>\n",
       "      <td>3600</td>\n",
       "      <td>1740</td>\n",
       "      <td>4560</td>\n",
       "      <td>7760</td>\n",
       "      <td>1560</td>\n",
       "      <td>1740</td>\n",
       "    </tr>\n",
       "    <tr>\n",
       "      <th>5</th>\n",
       "      <td>2760</td>\n",
       "      <td>1555</td>\n",
       "      <td>4890</td>\n",
       "      <td>7490</td>\n",
       "      <td>1890</td>\n",
       "      <td>1555</td>\n",
       "    </tr>\n",
       "    <tr>\n",
       "      <th>6</th>\n",
       "      <td>2980</td>\n",
       "      <td>1120</td>\n",
       "      <td>4780</td>\n",
       "      <td>8980</td>\n",
       "      <td>1780</td>\n",
       "      <td>1120</td>\n",
       "    </tr>\n",
       "    <tr>\n",
       "      <th>7</th>\n",
       "      <td>3700</td>\n",
       "      <td>1400</td>\n",
       "      <td>5860</td>\n",
       "      <td>9960</td>\n",
       "      <td>2860</td>\n",
       "      <td>1400</td>\n",
       "    </tr>\n",
       "    <tr>\n",
       "      <th>8</th>\n",
       "      <td>3540</td>\n",
       "      <td>1780</td>\n",
       "      <td>6100</td>\n",
       "      <td>8100</td>\n",
       "      <td>2100</td>\n",
       "      <td>1780</td>\n",
       "    </tr>\n",
       "    <tr>\n",
       "      <th>9</th>\n",
       "      <td>1990</td>\n",
       "      <td>1890</td>\n",
       "      <td>8300</td>\n",
       "      <td>10300</td>\n",
       "      <td>2300</td>\n",
       "      <td>1890</td>\n",
       "    </tr>\n",
       "    <tr>\n",
       "      <th>10</th>\n",
       "      <td>2340</td>\n",
       "      <td>2100</td>\n",
       "      <td>7300</td>\n",
       "      <td>13300</td>\n",
       "      <td>2400</td>\n",
       "      <td>2100</td>\n",
       "    </tr>\n",
       "    <tr>\n",
       "      <th>11</th>\n",
       "      <td>2900</td>\n",
       "      <td>1760</td>\n",
       "      <td>7400</td>\n",
       "      <td>14400</td>\n",
       "      <td>1800</td>\n",
       "      <td>1760</td>\n",
       "    </tr>\n",
       "  </tbody>\n",
       "</table>\n",
       "</div>"
      ],
      "text/plain": [
       "    facecream  facewash  toothpaste  bathingsoap  shampoo  moisturizer\n",
       "0        2500      1500        5200         9200     1200         1500\n",
       "1        2630      1200        5100         6100     2100         1200\n",
       "2        2140      1340        4550         9550     3550         1340\n",
       "3        3400      1130        5870         8870     1870         1130\n",
       "4        3600      1740        4560         7760     1560         1740\n",
       "5        2760      1555        4890         7490     1890         1555\n",
       "6        2980      1120        4780         8980     1780         1120\n",
       "7        3700      1400        5860         9960     2860         1400\n",
       "8        3540      1780        6100         8100     2100         1780\n",
       "9        1990      1890        8300        10300     2300         1890\n",
       "10       2340      2100        7300        13300     2400         2100\n",
       "11       2900      1760        7400        14400     1800         1760"
      ]
     },
     "execution_count": 39,
     "metadata": {},
     "output_type": "execute_result"
    }
   ],
   "source": [
    "sales_df_2 = sales_df.drop('month_number', axis =1)\n",
    "sales_df_2"
   ]
  },
  {
   "cell_type": "code",
   "execution_count": 54,
   "id": "7570f62c",
   "metadata": {},
   "outputs": [
    {
     "name": "stdout",
     "output_type": "stream",
     "text": [
      "facecream: 13.746910134757995\n",
      "facewash: 7.381787736225181\n",
      "toothpaste: 27.87257794434256\n",
      "bathingsoap: 45.454907902081175\n",
      "shampoo: 10.130771070887489\n",
      "moisturizer: 7.381787736225181\n"
     ]
    }
   ],
   "source": [
    "total_sales = sales_df_2[:11].sum().sum()\n",
    "print('facecream: ' + str(sales_df_2['facecream'].sum()/total_sales * 100))\n",
    "print('facewash: ' + str(sales_df_2['facewash'].sum()/total_sales * 100))\n",
    "print('toothpaste: ' + str(sales_df_2['toothpaste'].sum()/total_sales * 100))\n",
    "print('bathingsoap: ' + str(sales_df_2['bathingsoap'].sum()/total_sales * 100))\n",
    "print('shampoo: ' + str(sales_df_2['shampoo'].sum()/total_sales * 100))\n",
    "print('moisturizer: ' + str(sales_df_2['moisturizer'].sum()/total_sales * 100))"
   ]
  },
  {
   "cell_type": "code",
   "execution_count": null,
   "id": "cf151b12",
   "metadata": {},
   "outputs": [],
   "source": []
  },
  {
   "cell_type": "code",
   "execution_count": null,
   "id": "8f47f410",
   "metadata": {},
   "outputs": [],
   "source": []
  }
 ],
 "metadata": {
  "kernelspec": {
   "display_name": "Python 3 (ipykernel)",
   "language": "python",
   "name": "python3"
  },
  "language_info": {
   "codemirror_mode": {
    "name": "ipython",
    "version": 3
   },
   "file_extension": ".py",
   "mimetype": "text/x-python",
   "name": "python",
   "nbconvert_exporter": "python",
   "pygments_lexer": "ipython3",
   "version": "3.10.8"
  }
 },
 "nbformat": 4,
 "nbformat_minor": 5
}
